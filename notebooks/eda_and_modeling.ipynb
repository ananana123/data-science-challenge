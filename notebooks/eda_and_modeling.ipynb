import pandas as pd
import seaborn as sns
import matplotlib.pyplot as plt

df = pd.read_csv("../data/teste_indicium_precificacao.csv")
print(df.head())
print(df.info())

sns.histplot(df["price"], bins=50)
plt.title("Distribuição de preços")
plt.show()

#Análise exploratória
sns.histplot(df["price"], bins=50, kde=True)
plt.title("Distribuição de preços")
plt.xlabel("Preço")
plt.ylabel("Frequência")
plt.show()

#onde investir?
#preços médios por bairro
avg_price_by_area = df.groupby("bairro_group")["price"].mean()
print("Preço médio por grupo de bairro:")
print(avg_price_by_area)

#Gráfico
sns.barplot(x=avg_price_by_area.index, y=avg_price_by_area.values)
plt.title("Preço médio por bairro")
plt.xlabel("Grupo de bairro")
plt.ylabel("Preço médio")
plt.show()

#impacto acerca das noites mínimas e disponibilidade
corr_matrix = df[["minimo_noites", "disponibilidade_365", "price"]].corr()
sns.heatmap(corr_matrix, annot=True, cmap="coolwarm")
plt.title("Correlação entre noites minímas, disponibilidade e preço:")
plt.show()

#Análise de padrões em nomes de locais caros:
from collections import Counter
import re

high_price_names = df[df["price"] > 200]["nome"]
words = " ".join(str(item) for item in high_price_names).lower()
words = re.findall(r'\b\w+\b', words)
word_counts = Counter(words)
print("Palavras mais comuns em locais caros:")
print(word_counts.most_common(10))


#Separação de dados e criação de pipeline
from sklearn.model_selection import train_test_split
from sklearn.compose import ColumnTransformer
from sklearn.preprocessing import OneHotEncoder
from sklearn.pipeline import Pipeline
from sklearn.ensemble import RandomForestRegressor
from sklearn.metrics import mean_absolute_error
from sklearn.metrics import mean_squared_error
import numpy as np

X = df[["bairro_group", "room_type", "minimo_noites", "disponibilidade_365", "reviews_por_mes"]]
y = df["price"]

X_train, X_test, y_train, y_test = train_test_split(X, y, test_size=0.2, random_state=42)

preprocessor = ColumnTransformer(transformers=[
    ("onehot", OneHotEncoder(), ["bairro_group", "room_type"])
], remainder="passthrough")

pipeline = Pipeline(steps=[
    ("preprocessor", preprocessor),
    ("model", RandomForestRegressor(n_estimators=100, random_state=42))
])

pipeline.fit(X_train, y_train)

#Avaliação do modelo
predictions = pipeline.predict(X_test)

mse = mean_squared_error(y_test, predictions)
rmse = np.sqrt(mse)

print(f"RMSE: {rmse}")

#Previsão do apartamento dado no exemplo
sample_apartment = {
    "bairro_group": ["Manhattan"],
    "room_type": ["Entire home/apt"],
    "minimo_noites": [1],
    "disponibilidade_365": [355],
    "reviews_por_mes": [0.38]
}

sample_df = pd.DataFrame(sample_apartment)
predicted_price = pipeline.predict(sample_df)
print("Preço sugerido para o apartamento de exemplo:", predicted_price[0])

#Salvar o modelo
import joblib

# Salvar o modelo treinado no formato .pkl
joblib.dump(pipeline, "../models/price_prediction_model.pkl")
print("Modelo salvo em '../models/price_prediction_model.pkl'")
